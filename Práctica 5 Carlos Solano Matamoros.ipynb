{
 "cells": [
  {
   "cell_type": "markdown",
   "metadata": {},
   "source": [
    "# Conjunto de Datos"
   ]
  },
  {
   "cell_type": "markdown",
   "metadata": {},
   "source": [
    "Proceda a descargar usando los datasets de scikit-learn el conjunto de datos llamado breast cancer.\n",
    "Imprima las dimensiones del conjunto de datos, tanto a nivel de atributos como a nivel de clases."
   ]
  },
  {
   "cell_type": "code",
   "execution_count": 1,
   "metadata": {},
   "outputs": [],
   "source": [
    "from sklearn.datasets import load_breast_cancer\n",
    "from sklearn.model_selection import train_test_split\n",
    "import pandas as pd"
   ]
  },
  {
   "cell_type": "code",
   "execution_count": 2,
   "metadata": {
    "scrolled": true
   },
   "outputs": [
    {
     "name": "stdout",
     "output_type": "stream",
     "text": [
      "El conjunto de datos tiene 569 filas y 30 atributos. Las dos clases son malignant y benign\n"
     ]
    }
   ],
   "source": [
    "cancer = load_breast_cancer()\n",
    "print (\"El conjunto de datos tiene\", cancer.data.shape[0], \"filas y\", cancer.data.shape[1], \"atributos.\", \"Las dos clases son\",cancer.target_names[0],\"y\",cancer.target_names[1])"
   ]
  },
  {
   "cell_type": "markdown",
   "metadata": {},
   "source": [
    "# Algoritmos de clasificación"
   ]
  },
  {
   "cell_type": "markdown",
   "metadata": {},
   "source": [
    "Seleccione 5 algoritmos de clasificación, procure evitar el uso de los algoritmos básicos, de hecho puede\n",
    "recurrir al uso de algoritmos que no se hayan visto en clase. Para cada algoritmo construya el clasificador\n",
    "usando los parámetros \"estimados\" o \"por defecto\"."
   ]
  },
  {
   "cell_type": "markdown",
   "metadata": {},
   "source": [
    "# Validación tradicional"
   ]
  },
  {
   "cell_type": "markdown",
   "metadata": {},
   "source": [
    "Separe el conjunto de entrenamiento, del conjunto de pruebas (30% para pruebas) y determine la eficiencia\n",
    "de cada método, con los valores \"estimados\" o \"por defecto\" del método"
   ]
  },
  {
   "cell_type": "markdown",
   "metadata": {},
   "source": [
    "Se separa el conjunto de entrenamiento del conjunto de prueba en una razón 70:30"
   ]
  },
  {
   "cell_type": "code",
   "execution_count": 3,
   "metadata": {},
   "outputs": [],
   "source": [
    "X_train, X_test, y_train, y_test = train_test_split(cancer.data, cancer.target, test_size=0.3)"
   ]
  },
  {
   "cell_type": "markdown",
   "metadata": {},
   "source": [
    "## Clasificador Support Vector"
   ]
  },
  {
   "cell_type": "code",
   "execution_count": 4,
   "metadata": {
    "scrolled": true
   },
   "outputs": [
    {
     "name": "stdout",
     "output_type": "stream",
     "text": [
      "Training set score: 1.000\n",
      "Test set score: 0.637\n"
     ]
    }
   ],
   "source": [
    "from sklearn.svm import SVC\n",
    "svc = SVC().fit(X_train, y_train)\n",
    "print(\"Training set score: {:.3f}\".format(svc.score(X_train, y_train)))\n",
    "print(\"Test set score: {:.3f}\".format(svc.score(X_test, y_test)))"
   ]
  },
  {
   "cell_type": "markdown",
   "metadata": {},
   "source": [
    "## Clasificador AdaBoost"
   ]
  },
  {
   "cell_type": "code",
   "execution_count": 5,
   "metadata": {},
   "outputs": [
    {
     "name": "stdout",
     "output_type": "stream",
     "text": [
      "Training set score: 1.000\n",
      "Test set score: 0.953\n"
     ]
    }
   ],
   "source": [
    "from sklearn.ensemble import AdaBoostClassifier\n",
    "adaboost = AdaBoostClassifier().fit(X_train, y_train)\n",
    "print(\"Training set score: {:.3f}\".format(adaboost.score(X_train, y_train)))\n",
    "print(\"Test set score: {:.3f}\".format(adaboost.score(X_test, y_test)))"
   ]
  },
  {
   "cell_type": "markdown",
   "metadata": {},
   "source": [
    "## Clasificador naive Bayes"
   ]
  },
  {
   "cell_type": "code",
   "execution_count": 6,
   "metadata": {},
   "outputs": [
    {
     "name": "stdout",
     "output_type": "stream",
     "text": [
      "Training set score: 0.952\n",
      "Test set score: 0.930\n"
     ]
    }
   ],
   "source": [
    "from sklearn.naive_bayes import GaussianNB\n",
    "GaussianNB = GaussianNB().fit(X_train, y_train)\n",
    "print(\"Training set score: {:.3f}\".format(GaussianNB.score(X_train, y_train)))\n",
    "print(\"Test set score: {:.3f}\".format(GaussianNB.score(X_test, y_test)))"
   ]
  },
  {
   "cell_type": "markdown",
   "metadata": {},
   "source": [
    "## Clasificador Gradient Tree Boosting"
   ]
  },
  {
   "cell_type": "code",
   "execution_count": 7,
   "metadata": {},
   "outputs": [
    {
     "name": "stdout",
     "output_type": "stream",
     "text": [
      "Training set score: 1.000\n",
      "Test set score: 0.953\n"
     ]
    }
   ],
   "source": [
    "from sklearn.ensemble import GradientBoostingClassifier\n",
    "gradboost = GradientBoostingClassifier().fit(X_train, y_train)\n",
    "print(\"Training set score: {:.3f}\".format(gradboost.score(X_train, y_train)))\n",
    "print(\"Test set score: {:.3f}\".format(gradboost.score(X_test, y_test)))"
   ]
  },
  {
   "cell_type": "markdown",
   "metadata": {},
   "source": [
    "## MLPClassifier"
   ]
  },
  {
   "cell_type": "code",
   "execution_count": 8,
   "metadata": {
    "scrolled": false
   },
   "outputs": [
    {
     "name": "stdout",
     "output_type": "stream",
     "text": [
      "Training set score: 0.759\n",
      "Test set score: 0.731\n"
     ]
    }
   ],
   "source": [
    "from sklearn.neural_network import MLPClassifier\n",
    "mlp = MLPClassifier().fit(X_train, y_train)\n",
    "print(\"Training set score: {:.3f}\".format(mlp.score(X_train, y_train)))\n",
    "print(\"Test set score: {:.3f}\".format(mlp.score(X_test, y_test)))"
   ]
  },
  {
   "cell_type": "markdown",
   "metadata": {},
   "source": [
    "# Afinamiento de parámetros del clasificador"
   ]
  },
  {
   "cell_type": "markdown",
   "metadata": {},
   "source": [
    "Para cada método determine los mejores parámetros de manera tal que evite overfitting y underfitting.\n",
    "RECOMENDACIÓN: Construya una curva (cuando sea posible) de accuracy vrs. x parametro, donde\n",
    "x parametro corresponde al(os) parámetro(s) según el método elegido."
   ]
  },
  {
   "cell_type": "markdown",
   "metadata": {},
   "source": [
    "Se importa matplotlib"
   ]
  },
  {
   "cell_type": "code",
   "execution_count": 9,
   "metadata": {},
   "outputs": [],
   "source": [
    "import matplotlib.pyplot as plt\n",
    "%matplotlib inline"
   ]
  },
  {
   "cell_type": "markdown",
   "metadata": {},
   "source": [
    "## Clasificador Support Vector"
   ]
  },
  {
   "cell_type": "code",
   "execution_count": 10,
   "metadata": {
    "scrolled": true
   },
   "outputs": [
    {
     "name": "stdout",
     "output_type": "stream",
     "text": [
      "Training set score: 0.970\n",
      "Test set score: 0.918\n"
     ]
    }
   ],
   "source": [
    "from sklearn.svm import SVC\n",
    "svc = SVC(kernel='linear').fit(X_train, y_train)\n",
    "print(\"Training set score: {:.3f}\".format(svc.score(X_train, y_train)))\n",
    "print(\"Test set score: {:.3f}\".format(svc.score(X_test, y_test)))"
   ]
  },
  {
   "cell_type": "markdown",
   "metadata": {},
   "source": [
    "Al modificar el kernel a linear los scores mejoran."
   ]
  },
  {
   "cell_type": "markdown",
   "metadata": {},
   "source": [
    "## Clasificador AdaBoost"
   ]
  },
  {
   "cell_type": "code",
   "execution_count": 11,
   "metadata": {
    "scrolled": false
   },
   "outputs": [
    {
     "data": {
      "text/plain": [
       "<matplotlib.legend.Legend at 0x2438ebf5400>"
      ]
     },
     "execution_count": 11,
     "metadata": {},
     "output_type": "execute_result"
    },
    {
     "data": {
      "image/png": "[encoded data removed]",
      "text/plain": [
       "<matplotlib.figure.Figure at 0x2438bc24160>"
      ]
     },
     "metadata": {},
     "output_type": "display_data"
    }
   ],
   "source": [
    "from sklearn.ensemble import AdaBoostClassifier\n",
    "\n",
    "training_acc = []\n",
    "test_acc = []\n",
    "\n",
    "rango = range(1, 15)\n",
    "for n in rango:\n",
    "    # se construye el modelo de clasificacion\n",
    "    adaboost = AdaBoostClassifier(n_estimators=n).fit(X_train, y_train)\n",
    "    # se almacena el \"training set accuracy\"\n",
    "    training_acc.append(adaboost.score(X_train, y_train))\n",
    "    # se almacena la \"generalization accuracy\"\n",
    "    test_acc.append(adaboost.score(X_test, y_test))\n",
    "plt.plot(rango, training_acc, label=\"training accuracy\")\n",
    "plt.plot(rango, test_acc, label=\"test accuracy\")\n",
    "plt.ylabel(\"Accuracy\")\n",
    "plt.xlabel(\"n_estimators\")\n",
    "plt.legend()"
   ]
  },
  {
   "cell_type": "markdown",
   "metadata": {},
   "source": [
    "El valor óptimo de n_estimators para AdaBoost es alrededor de 2."
   ]
  },
  {
   "cell_type": "markdown",
   "metadata": {},
   "source": [
    "## Clasificador niave Bayes"
   ]
  },
  {
   "cell_type": "markdown",
   "metadata": {},
   "source": [
    "El clasificador naive Bayes presenta scores altos sin overfitting."
   ]
  },
  {
   "cell_type": "markdown",
   "metadata": {},
   "source": [
    "## Clasificador Gradient Tree Boosting"
   ]
  },
  {
   "cell_type": "code",
   "execution_count": 12,
   "metadata": {},
   "outputs": [
    {
     "data": {
      "text/plain": [
       "<matplotlib.legend.Legend at 0x2438eca7b00>"
      ]
     },
     "execution_count": 12,
     "metadata": {},
     "output_type": "execute_result"
    },
    {
     "data": {
      "image/png": "[encoded data removed]",
      "text/plain": [
       "<matplotlib.figure.Figure at 0x2438ebb1d68>"
      ]
     },
     "metadata": {},
     "output_type": "display_data"
    }
   ],
   "source": [
    "training_acc = []\n",
    "test_acc = []\n",
    "\n",
    "rango = range(1, 5)\n",
    "for c in rango:\n",
    "    # se construye el modelo de clasificacion\n",
    "    gradboost = GradientBoostingClassifier(max_depth=c).fit(X_train, y_train)\n",
    "    # se almacena el \"training set accuracy\"\n",
    "    training_acc.append(gradboost.score(X_train, y_train))\n",
    "    # se almacena la \"generalization accuracy\"\n",
    "    test_acc.append(gradboost.score(X_test, y_test))\n",
    "plt.plot(rango, training_acc, label=\"training accuracy\")\n",
    "plt.plot(rango, test_acc, label=\"test accuracy\")\n",
    "plt.ylabel(\"Accuracy\")\n",
    "plt.xlabel(\"max_depth\")\n",
    "plt.legend()"
   ]
  },
  {
   "cell_type": "markdown",
   "metadata": {},
   "source": [
    "Con un valor de max_depth=1 en GradientBoostingClassifier se evita el overfitting."
   ]
  },
  {
   "cell_type": "markdown",
   "metadata": {},
   "source": [
    "## MLPClassifier"
   ]
  },
  {
   "cell_type": "code",
   "execution_count": 13,
   "metadata": {
    "scrolled": true
   },
   "outputs": [
    {
     "name": "stdout",
     "output_type": "stream",
     "text": [
      "Training set score: 0.947\n",
      "Test set score: 0.936\n"
     ]
    }
   ],
   "source": [
    "from sklearn.neural_network import MLPClassifier\n",
    "mlp = MLPClassifier(solver='lbfgs').fit(X_train, y_train)\n",
    "print(\"Training set score: {:.3f}\".format(mlp.score(X_train, y_train)))\n",
    "print(\"Test set score: {:.3f}\".format(mlp.score(X_test, y_test)))"
   ]
  },
  {
   "cell_type": "markdown",
   "metadata": {},
   "source": [
    "Al cambiar el solver de MLPClassifier a lbfgs los scores aumentan"
   ]
  },
  {
   "cell_type": "markdown",
   "metadata": {},
   "source": [
    "# Validación cruzada"
   ]
  },
  {
   "cell_type": "markdown",
   "metadata": {},
   "source": [
    "Utilice dos de los métodos de Cross-Validation y aplíquelos a cada método de clasificación."
   ]
  },
  {
   "cell_type": "markdown",
   "metadata": {},
   "source": [
    "## Cross Validation (k-fold)"
   ]
  },
  {
   "cell_type": "code",
   "execution_count": 14,
   "metadata": {
    "scrolled": false
   },
   "outputs": [
    {
     "name": "stdout",
     "output_type": "stream",
     "text": [
      "Cross-validation scores de SVC(C=1.0, cache_size=200, class_weight=None, coef0=0.0,\n",
      "  decision_function_shape='ovr', degree=3, gamma='auto', kernel='linear',\n",
      "  max_iter=-1, probability=False, random_state=None, shrinking=True,\n",
      "  tol=0.001, verbose=False) : [ 0.93684211  0.96842105  0.94708995]\n",
      "Cross-validation scores de AdaBoostClassifier(algorithm='SAMME.R', base_estimator=None,\n",
      "          learning_rate=1.0, n_estimators=2, random_state=None) : [ 0.91578947  0.88947368  0.89417989]\n",
      "Cross-validation scores de GaussianNB(priors=None) : [ 0.91578947  0.94736842  0.94708995]\n",
      "Cross-validation scores de GradientBoostingClassifier(criterion='friedman_mse', init=None,\n",
      "              learning_rate=0.1, loss='deviance', max_depth=1,\n",
      "              max_features=None, max_leaf_nodes=None,\n",
      "              min_impurity_decrease=0.0, min_impurity_split=None,\n",
      "              min_samples_leaf=1, min_samples_split=2,\n",
      "              min_weight_fraction_leaf=0.0, n_estimators=100,\n",
      "              presort='auto', random_state=None, subsample=1.0, verbose=0,\n",
      "              warm_start=False) : [ 0.94736842  0.97894737  0.95767196]\n",
      "Cross-validation scores de MLPClassifier(activation='relu', alpha=0.0001, batch_size='auto', beta_1=0.9,\n",
      "       beta_2=0.999, early_stopping=False, epsilon=1e-08,\n",
      "       hidden_layer_sizes=(100,), learning_rate='constant',\n",
      "       learning_rate_init=0.001, max_iter=200, momentum=0.9,\n",
      "       nesterovs_momentum=True, power_t=0.5, random_state=None,\n",
      "       shuffle=True, solver='lbfgs', tol=0.0001, validation_fraction=0.1,\n",
      "       verbose=False, warm_start=False) : [ 0.93157895  0.60526316  0.91005291]\n"
     ]
    }
   ],
   "source": [
    "from sklearn.model_selection import cross_val_score\n",
    "\n",
    "svc = SVC(kernel='linear')\n",
    "adaboost = AdaBoostClassifier(n_estimators=2)\n",
    "gradboost = GradientBoostingClassifier(max_depth=1)\n",
    "mlp = MLPClassifier(solver='lbfgs')\n",
    "\n",
    "algoritmos=[svc,adaboost,GaussianNB,gradboost,mlp]\n",
    "\n",
    "for i in algoritmos:\n",
    "    scores = cross_val_score(i, cancer.data, cancer.target)\n",
    "    print(\"Cross-validation scores de\",i,\": {}\".format(scores))"
   ]
  },
  {
   "cell_type": "markdown",
   "metadata": {},
   "source": [
    "## Shuffle-Split CV\n"
   ]
  },
  {
   "cell_type": "code",
   "execution_count": 15,
   "metadata": {},
   "outputs": [
    {
     "name": "stdout",
     "output_type": "stream",
     "text": [
      "Cross-validation scores de SVC(C=1.0, cache_size=200, class_weight=None, coef0=0.0,\n",
      "  decision_function_shape='ovr', degree=3, gamma='auto', kernel='linear',\n",
      "  max_iter=-1, probability=False, random_state=None, shrinking=True,\n",
      "  tol=0.001, verbose=False) : [ 0.97076023  0.94152047  0.94736842  0.94736842  0.92982456  0.94736842\n",
      "  0.97076023  0.97076023  0.95906433  0.95906433]\n",
      "Cross-validation scores de AdaBoostClassifier(algorithm='SAMME.R', base_estimator=None,\n",
      "          learning_rate=1.0, n_estimators=2, random_state=None) : [ 0.93567251  0.92982456  0.94152047  0.83625731  0.91812865  0.88888889\n",
      "  0.87134503  0.94152047  0.9005848   0.9122807 ]\n",
      "Cross-validation scores de GaussianNB(priors=None) : [ 0.95321637  0.94736842  0.94152047  0.94736842  0.94152047  0.92982456\n",
      "  0.94152047  0.94152047  0.92397661  0.95321637]\n",
      "Cross-validation scores de GradientBoostingClassifier(criterion='friedman_mse', init=None,\n",
      "              learning_rate=0.1, loss='deviance', max_depth=1,\n",
      "              max_features=None, max_leaf_nodes=None,\n",
      "              min_impurity_decrease=0.0, min_impurity_split=None,\n",
      "              min_samples_leaf=1, min_samples_split=2,\n",
      "              min_weight_fraction_leaf=0.0, n_estimators=100,\n",
      "              presort='auto', random_state=None, subsample=1.0, verbose=0,\n",
      "              warm_start=False) : [ 0.96491228  0.92397661  0.95321637  0.97076023  0.94736842  0.93567251\n",
      "  0.92982456  0.97076023  0.94152047  0.97076023]\n",
      "Cross-validation scores de MLPClassifier(activation='relu', alpha=0.0001, batch_size='auto', beta_1=0.9,\n",
      "       beta_2=0.999, early_stopping=False, epsilon=1e-08,\n",
      "       hidden_layer_sizes=(100,), learning_rate='constant',\n",
      "       learning_rate_init=0.001, max_iter=200, momentum=0.9,\n",
      "       nesterovs_momentum=True, power_t=0.5, random_state=None,\n",
      "       shuffle=True, solver='lbfgs', tol=0.0001, validation_fraction=0.1,\n",
      "       verbose=False, warm_start=False) : [ 0.97076023  0.94736842  0.9122807   0.57894737  0.90643275  0.94152047\n",
      "  0.95321637  0.9122807   0.92982456  0.94152047]\n"
     ]
    }
   ],
   "source": [
    "from sklearn.model_selection import cross_val_score, ShuffleSplit\n",
    "\n",
    "shuffle_split = ShuffleSplit(test_size=.3, train_size=.7, n_splits=10)\n",
    "\n",
    "svc = SVC(kernel='linear')\n",
    "adaboost = AdaBoostClassifier(n_estimators=2)\n",
    "gradboost = GradientBoostingClassifier(max_depth=1)\n",
    "mlp = MLPClassifier(solver='lbfgs')\n",
    "\n",
    "algoritmos=[svc,adaboost,GaussianNB,gradboost,mlp]\n",
    "\n",
    "for i in algoritmos:\n",
    "    scores = cross_val_score(i, cancer.data, cancer.target, cv=shuffle_split)\n",
    "    print(\"Cross-validation scores de\",i,\": {}\".format(scores))\n"
   ]
  },
  {
   "cell_type": "markdown",
   "metadata": {},
   "source": [
    "## Conclusiones"
   ]
  },
  {
   "cell_type": "markdown",
   "metadata": {},
   "source": [
    "Los clasificadores SVC, AdaBoost y Gradient Tree Boosting tienden a overfit usando los parámetros por defecto, mientras que naive Bayes presenta buenos resultados por defecto. El solver lbfgs del clasificador MLP mejoró en gran medida los scores. En general la validación cruzada da buenos resultados para todos los algoritmos, sin embargo en ambas validaciones se obtuvo un valor bajo para el clasificador MLP lo que hace sospechar un patrón en los datos."
   ]
  }
 ],
 "metadata": {
  "kernelspec": {
   "display_name": "Python 3",
   "language": "python",
   "name": "python3"
  },
  "language_info": {
   "codemirror_mode": {
    "name": "ipython",
    "version": 3
   },
   "file_extension": ".py",
   "mimetype": "text/x-python",
   "name": "python",
   "nbconvert_exporter": "python",
   "pygments_lexer": "ipython3",
   "version": "3.6.3"
  }
 },
 "nbformat": 4,
 "nbformat_minor": 2
}
